{
  "nbformat": 4,
  "nbformat_minor": 0,
  "metadata": {
    "colab": {
      "provenance": [],
      "authorship_tag": "ABX9TyOoSmdtoQNag7KHckT4JAMv",
      "include_colab_link": true
    },
    "kernelspec": {
      "name": "python3",
      "display_name": "Python 3"
    },
    "language_info": {
      "name": "python"
    }
  },
  "cells": [
    {
      "cell_type": "markdown",
      "metadata": {
        "id": "view-in-github",
        "colab_type": "text"
      },
      "source": [
        "<a href=\"https://colab.research.google.com/github/jeanpooll12/crunchiemunchies/blob/main/cruchiMuchies.ipynb\" target=\"_parent\"><img src=\"https://colab.research.google.com/assets/colab-badge.svg\" alt=\"Open In Colab\"/></a>"
      ]
    },
    {
      "cell_type": "code",
      "execution_count": null,
      "metadata": {
        "id": "9oYIv4Ct7_aq"
      },
      "outputs": [],
      "source": [
        "import numpy as np\n",
        "\n",
        "calories_stats = np.genfromtxt('/content/cereal.csv', delimiter = \",\")\n",
        "averange_calories = np.mean(calories_stats)\n",
        "# print(round((averange_calories-60), 1))\n",
        "\n",
        "# sorted_calories = np.short(calories_stats)\n",
        "# print(sorted_calories)\n",
        "\n",
        "# median_calories = np.median(calories_stats)\n",
        "# print(median_calories)\n",
        "\n",
        "calories_stats = np.array(calories_stats)\n",
        "primer_cuartil = np.percentile(calories_stats, 25)\n",
        "tercer_cuartil = np.percentil(calories_stats, 75)\n"
      ]
    }
  ]
}